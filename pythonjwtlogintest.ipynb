{
 "cells": [
  {
   "cell_type": "markdown",
   "metadata": {},
   "source": [
    "---\n",
    "title: JWT Login (python/flask)\n",
    "layout: base\n",
    "description: A login screen that interacts with Python and obtains a JWT  \n",
    "type: ccc\n",
    "courses: { csp: {week: 18 }}\n",
    "---"
   ]
  },
  {
   "cell_type": "code",
   "execution_count": 1,
   "metadata": {
    "vscode": {
     "languageId": "html"
    }
   },
   "outputs": [
    {
     "ename": "SyntaxError",
     "evalue": "unterminated string literal (detected at line 21) (439434710.py, line 21)",
     "output_type": "error",
     "traceback": [
      "\u001b[0;36m  File \u001b[0;32m\"/tmp/ipykernel_15906/439434710.py\"\u001b[0;36m, line \u001b[0;32m21\u001b[0m\n\u001b[0;31m    Below JavaScript code is designed to handle user authentication in a web application. It's written to work with a backend server that uses JWT (JSON Web Tokens) for authentication.\u001b[0m\n\u001b[0m                                                                                            ^\u001b[0m\n\u001b[0;31mSyntaxError\u001b[0m\u001b[0;31m:\u001b[0m unterminated string literal (detected at line 21)\n"
     ]
    }
   ],
   "source": [
    "\n",
    "\n",
    "<!-- \n",
    "A simple HTML login form with a Login action when button is pressed.  \n",
    "\n",
    "The form triggers the login_user function defined in the JavaScript below when the Login button is pressed.\n",
    "-->\n",
    "<form action=\"javascript:login_user()\">\n",
    "    <p><label>\n",
    "        User ID:\n",
    "        <input type=\"text\" name=\"uid\" id=\"uid\" required>\n",
    "    </label></p>\n",
    "    <p><label>\n",
    "        Password:\n",
    "        <input type=\"password\" name=\"password\" id=\"password\" required>\n",
    "    </label></p>\n",
    "    <p>\n",
    "        <button>Login</button>\n",
    "    </p>\n",
    "</form>\n",
    "\n",
    "<!-- \n",
    "Below JavaScript code is designed to handle user authentication in a web application. It's written to work with a backend server that uses JWT (JSON Web Tokens) for authentication.\n",
    "\n",
    "The script defines a function when the page loads. This function is triggered when the Login button in the HTML form above is pressed. \n",
    " -->\n",
    "<script type=\"module\">\n",
    "    // uri variable and options object are obtained from config.js\n",
    "    import { uri, options } from '{{site.baseurl}}/assets/js/api/config.js';\n",
    "\n",
    "    function login_user(){\n",
    "        // Set Authenticate endpoint\n",
    "        const url = uri + '/api/users/authenticate';\n",
    "\n",
    "        // Set body of request to include login data from DOM\n",
    "        const body = {\n",
    "            uid: document.getElementById(\"uid\").value,\n",
    "            password: document.getElementById(\"password\").value,\n",
    "        };\n",
    "\n",
    "        // Change options according to Authentication requirements\n",
    "        const authOptions = {\n",
    "            ...options, // This will copy all properties from options\n",
    "            method: 'POST', // Override the method property\n",
    "            cache: 'no-cache', // Set the cache property\n",
    "            body: JSON.stringify(body)\n",
    "        };\n",
    "\n",
    "        // Fetch JWT\n",
    "        fetch(url, authOptions)\n",
    "        .then(response => {\n",
    "            // handle error response from Web API\n",
    "            if (!response.ok) {\n",
    "                const errorMsg = 'Login error: ' + response.status;\n",
    "                console.log(errorMsg);\n",
    "                return;\n",
    "            }\n",
    "            // Success!!!\n",
    "            // Redirect to the database page\n",
    "            window.location.href = \"{{site.baseurl}}/data/database\";\n",
    "        })\n",
    "        // catch fetch errors (ie ACCESS to server blocked)\n",
    "        .catch(err => {\n",
    "            console.error(err);\n",
    "        });\n",
    "    }\n",
    "\n",
    "    // Attach login_user to the window object, allowing access to form action\n",
    "    window.login_user = login_user;\n",
    "</script>\n"
   ]
  }
 ],
 "metadata": {
  "kernelspec": {
   "display_name": "Python 3",
   "language": "python",
   "name": "python3"
  },
  "language_info": {
   "codemirror_mode": {
    "name": "ipython",
    "version": 3
   },
   "file_extension": ".py",
   "mimetype": "text/x-python",
   "name": "python",
   "nbconvert_exporter": "python",
   "pygments_lexer": "ipython3",
   "version": "3.10.12"
  }
 },
 "nbformat": 4,
 "nbformat_minor": 2
}
